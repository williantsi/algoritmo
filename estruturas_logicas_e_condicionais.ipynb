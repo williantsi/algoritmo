{
  "nbformat": 4,
  "nbformat_minor": 0,
  "metadata": {
    "colab": {
      "name": "estruturas_logicas_e_condicionais.ipynb",
      "provenance": [],
      "authorship_tag": "ABX9TyOTh0qvw1IjheWn35r/okjJ",
      "include_colab_link": true
    },
    "kernelspec": {
      "name": "python3",
      "display_name": "Python 3"
    }
  },
  "cells": [
    {
      "cell_type": "markdown",
      "metadata": {
        "id": "view-in-github",
        "colab_type": "text"
      },
      "source": [
        "<a href=\"https://colab.research.google.com/github/williantsi/algoritmo/blob/master/estruturas_logicas_e_condicionais.ipynb\" target=\"_parent\"><img src=\"https://colab.research.google.com/assets/colab-badge.svg\" alt=\"Open In Colab\"/></a>"
      ]
    },
    {
      "cell_type": "markdown",
      "metadata": {
        "id": "XKn291IaHI9W"
      },
      "source": [
        "Estruturas Lógicas e Condicionais"
      ]
    },
    {
      "cell_type": "code",
      "metadata": {
        "id": "dc9_rVZhNhSK"
      },
      "source": [
        "################# if ###########################"
      ],
      "execution_count": null,
      "outputs": []
    },
    {
      "cell_type": "code",
      "metadata": {
        "id": "k0plPPubMsq3",
        "outputId": "63812216-009a-4bf5-adbd-01d6dffbf7b4",
        "colab": {
          "base_uri": "https://localhost:8080/",
          "height": 34
        }
      },
      "source": [
        "idade = 18\n",
        "\n",
        "if idade < 20:\n",
        "    print('Você é jovem!')"
      ],
      "execution_count": null,
      "outputs": [
        {
          "output_type": "stream",
          "text": [
            "Você é jovem!\n"
          ],
          "name": "stdout"
        }
      ]
    },
    {
      "cell_type": "code",
      "metadata": {
        "id": "zHR7eAGJMt6m"
      },
      "source": [
        "############### if-else #########################"
      ],
      "execution_count": null,
      "outputs": []
    },
    {
      "cell_type": "code",
      "metadata": {
        "id": "HA5hz_OrMvZ9",
        "outputId": "9ade9cc9-d16e-499b-8871-ccf5d6d1b64b",
        "colab": {
          "base_uri": "https://localhost:8080/",
          "height": 34
        }
      },
      "source": [
        "idade = 18\n",
        "\n",
        "if idade >= 18:\n",
        "    print('maior de idade')\n",
        "else:\n",
        "    print('menor de idade')"
      ],
      "execution_count": null,
      "outputs": [
        {
          "output_type": "stream",
          "text": [
            "maior de idade\n"
          ],
          "name": "stdout"
        }
      ]
    },
    {
      "cell_type": "code",
      "metadata": {
        "id": "SgwrMu1LMzBQ"
      },
      "source": [
        "################# if-elif-else ###################"
      ],
      "execution_count": null,
      "outputs": []
    },
    {
      "cell_type": "code",
      "metadata": {
        "id": "GbF2s0KLMz3_",
        "outputId": "d4d504a0-32d5-4ee5-9c88-fce07962e1a7",
        "colab": {
          "base_uri": "https://localhost:8080/",
          "height": 34
        }
      },
      "source": [
        "idade = 18\n",
        "\n",
        "if idade < 12:\n",
        "    print('crianca')\n",
        "elif idade < 18:\n",
        "    print('adolescente')\n",
        "elif idade < 60:\n",
        "    print('adulto')\n",
        "else:\n",
        "    print('idoso')"
      ],
      "execution_count": null,
      "outputs": [
        {
          "output_type": "stream",
          "text": [
            "adulto\n"
          ],
          "name": "stdout"
        }
      ]
    }
  ]
}