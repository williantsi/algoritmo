{
  "nbformat": 4,
  "nbformat_minor": 0,
  "metadata": {
    "colab": {
      "name": "Estrutura de repetição.ipynb",
      "provenance": []
    },
    "kernelspec": {
      "name": "python3",
      "display_name": "Python 3"
    }
  },
  "cells": [
    {
      "cell_type": "markdown",
      "metadata": {
        "id": "DT15RqLhu9QE"
      },
      "source": [
        "LISTA DE EXERCÍCIOS DE ALGORITMOS ESTRUTURAS DE REPETIÇÃO"
      ]
    },
    {
      "cell_type": "code",
      "metadata": {
        "id": "G6_F-bctvJg7",
        "outputId": "768f65fe-e481-4c1c-a53b-f1e95dba7609",
        "colab": {
          "base_uri": "https://localhost:8080/",
          "height": 34
        }
      },
      "source": [
        "'''1) Desenvolver um algoritmo que efetue a soma de todos os números ímpares que são múltiplos de\n",
        "três e que se encontram no conjunto dos números de 1 até 500.'''\n",
        "\n",
        "soma = 0\n",
        "\n",
        "for i in range (1,501):\n",
        "  if i % 3 == 0:\n",
        "    soma += i\n",
        "    \n",
        "print(soma)"
      ],
      "execution_count": 3,
      "outputs": [
        {
          "output_type": "stream",
          "text": [
            "41583\n"
          ],
          "name": "stdout"
        }
      ]
    },
    {
      "cell_type": "code",
      "metadata": {
        "id": "PpKJmKDKvNtB",
        "outputId": "772a56d9-fc70-46c1-b909-2762e8e7bbef",
        "colab": {
          "base_uri": "https://localhost:8080/",
          "height": 306
        }
      },
      "source": [
        "'''2) Desenvolver um algoritmo que leia a altura de 15 pessoas. Este programa deverá calcular e\n",
        "mostrar :\n",
        "a. A menor altura do grupo;\n",
        "b. A maior altura do grupo.'''\n",
        "\n",
        "maior = 0\n",
        "menor = 999\n",
        "\n",
        "for i in range(15):\n",
        "  altura = float(input('Entre com a altura da {}ª pessoa: '.format(i+1)))\n",
        "\n",
        "  if altura >  maior:\n",
        "    maior = altura\n",
        "  \n",
        "  if altura < menor:\n",
        "    menor = altura\n",
        "\n",
        "print('Pessoa mais alta: {}'.format(maior))\n",
        "print('Pessoa mais baixa: {}'.format(menor))\n"
      ],
      "execution_count": 10,
      "outputs": [
        {
          "output_type": "stream",
          "text": [
            "Entre com a altura da 1ª pessoa: 1.54\n",
            "Entre com a altura da 2ª pessoa: 1.78\n",
            "Entre com a altura da 3ª pessoa: 1.98\n",
            "Entre com a altura da 4ª pessoa: 1.47\n",
            "Entre com a altura da 5ª pessoa: 1.95\n",
            "Entre com a altura da 6ª pessoa: 1.87\n",
            "Entre com a altura da 7ª pessoa: 1.38\n",
            "Entre com a altura da 8ª pessoa: 1.52\n",
            "Entre com a altura da 9ª pessoa: 1.91\n",
            "Entre com a altura da 10ª pessoa: 1.68\n",
            "Entre com a altura da 11ª pessoa: 1.72\n",
            "Entre com a altura da 12ª pessoa: 1.79\n",
            "Entre com a altura da 13ª pessoa: 1.80\n",
            "Entre com a altura da 14ª pessoa: 1.87\n",
            "Entre com a altura da 15ª pessoa: 1.63\n",
            "Pessoa mais alta: 1.98\n",
            "Pessoa mais baixa: 1.38\n"
          ],
          "name": "stdout"
        }
      ]
    },
    {
      "cell_type": "code",
      "metadata": {
        "id": "GC18PSpdzgYs",
        "outputId": "7940a2a7-8b20-470a-e898-db4c504e1f82",
        "colab": {
          "base_uri": "https://localhost:8080/",
          "height": 408
        }
      },
      "source": [
        "'''3) Desenvolver um algoritmo que leia um número não determinado de valores e calcule e escreva a\n",
        "média aritmética dos valores lidos, a quantidade de valores positivos, a quantidade de valores\n",
        "negativos e o percentual de valores negativos e positivos.'''\n",
        "\n",
        "resp = True\n",
        "soma = 0\n",
        "qtd = 0\n",
        "qtd_positivos = 0\n",
        "qtd_negativos = 0\n",
        "\n",
        "while resp:\n",
        "  n = float(input('Entre com um número: '))\n",
        "\n",
        "  soma += n\n",
        "  qtd += 1\n",
        "\n",
        "  if n >= 0:\n",
        "    qtd_positivos += 1\n",
        "  else:\n",
        "    qtd_negativos += 1\n",
        "\n",
        "  resp = input('Deseja informar outro número, S/N?')\n",
        "  print('\\n')\n",
        "\n",
        "  if resp.upper() == 'S':\n",
        "    resp = True\n",
        "  else:\n",
        "    resp = False\n",
        "\n",
        "media = soma / qtd\n",
        "percentual_positivos = qtd_positivos / qtd * 100\n",
        "percentual_negativos = qtd_negativos / qtd * 100\n",
        "\n",
        "print('Média: {}'.format(media))\n",
        "print('Percentual positivos: {}'.format(percentual_positivos))\n",
        "print('Percentual negativos: {}'.format(percentual_negativos))"
      ],
      "execution_count": 15,
      "outputs": [
        {
          "output_type": "stream",
          "text": [
            "Entre com um número: 12\n",
            "Deseja informar outro número, S/N?s\n",
            "\n",
            "\n",
            "Entre com um número: 21\n",
            "Deseja informar outro número, S/N?s\n",
            "\n",
            "\n",
            "Entre com um número: -14\n",
            "Deseja informar outro número, S/N?s\n",
            "\n",
            "\n",
            "Entre com um número: -47\n",
            "Deseja informar outro número, S/N?s\n",
            "\n",
            "\n",
            "Entre com um número: 25\n",
            "Deseja informar outro número, S/N?n\n",
            "\n",
            "\n",
            "Média: -0.6\n",
            "Percentual positivos: 60.0\n",
            "Percentual negativos: 40.0\n"
          ],
          "name": "stdout"
        }
      ]
    },
    {
      "cell_type": "code",
      "metadata": {
        "id": "8k68ypOK3LNZ",
        "outputId": "2e924f62-e49f-4cf3-fcd3-cae1d6a7468b",
        "colab": {
          "base_uri": "https://localhost:8080/",
          "height": 238
        }
      },
      "source": [
        "'''4) Escrever um algoritmo que leia uma quantidade desconhecida de números e conte quantos deles\n",
        "estão nos seguintes intervalos: [0-25], [26-50], [51-75] e [76-100]. A entrada de dados deve\n",
        "terminar quando for lido um número negativo.'''\n",
        "\n",
        "n = 0\n",
        "cont_0_25 = 0\n",
        "cont_26_50 = 0\n",
        "cont_51_75 = 0\n",
        "cont_76_100 = 0\n",
        "\n",
        "while n >= 0:\n",
        "  n = float(input('Entre com um número: '))\n",
        "\n",
        "  if n>=0 and n<=25:\n",
        "    cont_0_25 += 1\n",
        "\n",
        "  elif n>=26 and n<=50:\n",
        "    cont_26_50 += 1\n",
        "\n",
        "  elif n>=51 and n<=75:\n",
        "    cont_51_75 += 1\n",
        "\n",
        "  elif n>=76 and n<=100:\n",
        "    cont_76_100 += 1\n",
        "\n",
        "print('[0-25]: {}\\n[26-50]: {}\\n[51-75]: {}\\n[76-100]: {}'.format(cont_0_25, cont_26_50, cont_51_75, cont_76_100))"
      ],
      "execution_count": 21,
      "outputs": [
        {
          "output_type": "stream",
          "text": [
            "Entre com um número: 10\n",
            "Entre com um número: 100\n",
            "Entre com um número: 101\n",
            "Entre com um número: 57\n",
            "Entre com um número: 25\n",
            "Entre com um número: 28\n",
            "Entre com um número: 52\n",
            "Entre com um número: 77\n",
            "Entre com um número: -1\n",
            "[0-25]: 2\n",
            "[26-50]: 1\n",
            "[51-75]: 2\n",
            "[76-100]: 2\n"
          ],
          "name": "stdout"
        }
      ]
    },
    {
      "cell_type": "code",
      "metadata": {
        "id": "ZKi5xBMAoxUL",
        "outputId": "391e5383-1c0a-40cb-b9c8-1edaab2203b5",
        "colab": {
          "base_uri": "https://localhost:8080/",
          "height": 170
        }
      },
      "source": [
        "'''5) Faça um algoritmo estruturado que leia uma quantidade não determinada de números positivos.\n",
        "Calcule a quantidade de números pares e ímpares, a média de valores pares e a média geral dos\n",
        "números lidos. O número que encerrará a leitura será zero.'''\n",
        "\n",
        "n = -1\n",
        "qtd = 0\n",
        "soma_lidos = 0\n",
        "qtd_pares = 0\n",
        "qtd_impares = 0\n",
        "soma_pares = 0\n",
        "\n",
        "while n != 0:\n",
        "  n = float(input('Informe um número: '))\n",
        "\n",
        "  if n > 0:\n",
        "    qtd += 1\n",
        "    soma_lidos += n\n",
        "\n",
        "    if n % 2 == 0:\n",
        "      qtd_pares += 1\n",
        "      soma_pares += n\n",
        "    else:\n",
        "      qtd_impares += 1\n",
        "\n",
        "media_lidos = soma_lidos / qtd\n",
        "media_pares = soma_pares / qtd_pares\n",
        "\n",
        "print('Quantidade de números pares: {}'.format(qtd_pares))\n",
        "print('Quantidade de números ímpares: {}'.format(qtd_impares))\n",
        "print('Média de valores pares: {}'.format(media_pares))\n",
        "print('Média geral dos números lidos: {}'.format(media_lidos))\n"
      ],
      "execution_count": 3,
      "outputs": [
        {
          "output_type": "stream",
          "text": [
            "Informe um número: 14\n",
            "Informe um número: 25\n",
            "Informe um número: 87\n",
            "Informe um número: 15\n",
            "Informe um número: 0\n",
            "Quantidade de números pares: 1\n",
            "Quantidade de números ímpares: 3\n",
            "Média de valores pares: 14.0\n",
            "Média geral dos números lidos: 35.25\n"
          ],
          "name": "stdout"
        }
      ]
    },
    {
      "cell_type": "code",
      "metadata": {
        "id": "qwo0BH5spABN",
        "outputId": "7581358a-d0e0-4707-dd49-de0fcfa83138",
        "colab": {
          "base_uri": "https://localhost:8080/",
          "height": 54
        }
      },
      "source": [
        "'''6) Escrever um algoritmo que gera e escreve os números ímpares entre 100 e 200.'''\n",
        "\n",
        "for i in range(100,201):\n",
        "  if i % 2 != 0:\n",
        "    print(i, end='')\n",
        "    print(', ' if i < 199 else '', end='')"
      ],
      "execution_count": 54,
      "outputs": [
        {
          "output_type": "stream",
          "text": [
            "101, 103, 105, 107, 109, 111, 113, 115, 117, 119, 121, 123, 125, 127, 129, 131, 133, 135, 137, 139, 141, 143, 145, 147, 149, 151, 153, 155, 157, 159, 161, 163, 165, 167, 169, 171, 173, 175, 177, 179, 181, 183, 185, 187, 189, 191, 193, 195, 197, 199"
          ],
          "name": "stdout"
        }
      ]
    },
    {
      "cell_type": "code",
      "metadata": {
        "id": "0H0RPvJJpAOO",
        "outputId": "b9c7bab9-70a4-4e46-bde4-27a9389bda58",
        "colab": {
          "base_uri": "https://localhost:8080/",
          "height": 221
        }
      },
      "source": [
        "'''7) Escrever um algoritmo que leia um valor para uma variável N de 1 a 10 e calcule a tabuada de\n",
        "N. Mostre a tabuada na forma: 0 x N = 0, 1 x N = 1N, 2 x N = 2N, ..., 10 x N = 10N.'''\n",
        "\n",
        "n = -1\n",
        "\n",
        "while n < 1 or n > 10:\n",
        "  n = int(input('Informe um número entre 1 e 10: '))\n",
        "\n",
        "  if n >= 1 or n <= 10:\n",
        "    for i in range(11):\n",
        "      print('{} X {} = {}'.format(i,n,i*n))\n",
        "  else:\n",
        "    print('Número inválido\\n')"
      ],
      "execution_count": 11,
      "outputs": [
        {
          "output_type": "stream",
          "text": [
            "Informe um número entre 1 e 10: 5\n",
            "0 X 5 = 0\n",
            "1 X 5 = 5\n",
            "2 X 5 = 10\n",
            "3 X 5 = 15\n",
            "4 X 5 = 20\n",
            "5 X 5 = 25\n",
            "6 X 5 = 30\n",
            "7 X 5 = 35\n",
            "8 X 5 = 40\n",
            "9 X 5 = 45\n",
            "10 X 5 = 50\n"
          ],
          "name": "stdout"
        }
      ]
    },
    {
      "cell_type": "code",
      "metadata": {
        "id": "3BqBmrptpAZh",
        "outputId": "2257d602-4659-4044-bb34-4f7ab42f4579",
        "colab": {
          "base_uri": "https://localhost:8080/",
          "height": 68
        }
      },
      "source": [
        "'''8) Escreva um algoritmo que leia um valor inicial A e uma razão R e imprima uma seqüência em\n",
        "P.A. contendo 10 valores.'''\n",
        "\n",
        "A = int(input('Informe o valor inicial da P.A.: '))\n",
        "R = int(input('Informe a razão da P.A.: '))\n",
        "\n",
        "for i in range(10):\n",
        "  print(A, end='')\n",
        "  print(', ' if i < 9 else '', end='')\n",
        "  A += R"
      ],
      "execution_count": 51,
      "outputs": [
        {
          "output_type": "stream",
          "text": [
            "Informe o valor inicial da P.A.: 10\n",
            "Informe a razão da P.A.: 2\n",
            "10, 12, 14, 16, 18, 20, 22, 24, 26, 28"
          ],
          "name": "stdout"
        }
      ]
    },
    {
      "cell_type": "code",
      "metadata": {
        "id": "6EuXgt-spAlm",
        "outputId": "abf8fe94-57ba-4cfc-dc16-a73ddf079e14",
        "colab": {
          "base_uri": "https://localhost:8080/",
          "height": 68
        }
      },
      "source": [
        "'''9) Escreva um algoritmo que leia um valor inicial A e uma razão R e imprima uma seqüência em\n",
        "P.G. contendo 10 valores.'''\n",
        "\n",
        "A = int(input('Informe o valor inicial da P.G.: '))\n",
        "R = int(input('Informe a razão da P.G.: '))\n",
        "\n",
        "for i in range(10):\n",
        "  print(A, end='')\n",
        "  print(', ' if i < 9 else '', end='')\n",
        "  A *= R"
      ],
      "execution_count": 49,
      "outputs": [
        {
          "output_type": "stream",
          "text": [
            "Informe o valor inicial da P.G.: 1\n",
            "Informe a razão da P.G.: 2\n",
            "1, 2, 4, 8, 16, 32, 64, 128, 256, 512"
          ],
          "name": "stdout"
        }
      ]
    },
    {
      "cell_type": "code",
      "metadata": {
        "id": "YjaWB2gPulVe",
        "outputId": "86096dba-205d-4fe6-dc48-873f6f309880",
        "colab": {
          "base_uri": "https://localhost:8080/",
          "height": 51
        }
      },
      "source": [
        "'''10) Escreva um algoritmo que leia um valor inicial A e imprima a seqüência de valores do cálculo de\n",
        "A! e o seu resultado. Ex: 5! = 5 X 4 X 3 X 2 X 1 = 120 '''\n",
        "\n",
        "A = int(input('Informe o valor: '))\n",
        "fatorial = 1\n",
        "\n",
        "for i in range(A, 0, -1):\n",
        "  fatorial *=  i\n",
        "  print('{}'.format(i), end='')\n",
        "  print(' x ' if i > 1 else ' = ', end='')\n",
        "\n",
        "print(fatorial)"
      ],
      "execution_count": 39,
      "outputs": [
        {
          "output_type": "stream",
          "text": [
            "Informe o valor: 7\n",
            "7 x 6 x 5 x 4 x 3 x 2 x 1 = 5040\n"
          ],
          "name": "stdout"
        }
      ]
    },
    {
      "cell_type": "code",
      "metadata": {
        "id": "F_5_xjz10ZyI",
        "outputId": "2344d621-dc63-4d9b-c1c8-2662738b83e5",
        "colab": {
          "base_uri": "https://localhost:8080/",
          "height": 34
        }
      },
      "source": [
        "#11) Faça um algoritmo para fazer uma linha com 100 símbolos de #\n",
        "\n",
        "for i in range(100):\n",
        "  print('#', end='')"
      ],
      "execution_count": 60,
      "outputs": [
        {
          "output_type": "stream",
          "text": [
            "####################################################################################################"
          ],
          "name": "stdout"
        }
      ]
    },
    {
      "cell_type": "code",
      "metadata": {
        "id": "Qb8wX8KY1HEB",
        "outputId": "29f40bf5-0903-469f-b817-e0d8713ad8ed",
        "colab": {
          "base_uri": "https://localhost:8080/",
          "height": 34
        }
      },
      "source": [
        "#12) Faça um algoritmo para escrever os números ímpares de 100 a 50 em ordem decrescente\n",
        "\n",
        "for i in range(100, 49, -1):\n",
        "  if i % 2 != 0:\n",
        "    print(i, end='')\n",
        "    print(', ' if i > 51 else '', end='')"
      ],
      "execution_count": 64,
      "outputs": [
        {
          "output_type": "stream",
          "text": [
            "99, 97, 95, 93, 91, 89, 87, 85, 83, 81, 79, 77, 75, 73, 71, 69, 67, 65, 63, 61, 59, 57, 55, 53, 51"
          ],
          "name": "stdout"
        }
      ]
    },
    {
      "cell_type": "code",
      "metadata": {
        "id": "dUrMBmuq2Ant",
        "outputId": "64043fcd-1c45-4019-e995-9a1dffcabeb2",
        "colab": {
          "base_uri": "https://localhost:8080/",
          "height": 238
        }
      },
      "source": [
        "#13) Faça um algoritmo para ler o nome e o ano de nascimento de 5 pessoas e imprimir o nome\n",
        "#e a idade da pessoa mais velha e da pessoa mais nova\n",
        "\n",
        "mais_velha = 0\n",
        "mais_nova = 99999\n",
        "nome_mais_velha = ''\n",
        "nome_mais_nova = ''\n",
        "\n",
        "for i in range(5):\n",
        "  nome = input('Informe o nome da {}ª pessoa: '.format(i+1))\n",
        "  ano = int(input('Informe o ano de nascimento da {}ª pessoa: '.format(i+1)))\n",
        "  idade = 2020 - ano\n",
        "\n",
        "  if idade > mais_velha:\n",
        "    mais_velha = idade\n",
        "    nome_mais_velha = nome\n",
        "\n",
        "  if idade < mais_nova:\n",
        "    mais_nova = idade\n",
        "    nome_mais_nova = nome\n",
        "\n",
        "print()\n",
        "print('Pessoa mais velha: {} com {} anos'.format(nome_mais_velha, mais_velha))\n",
        "print('Pessoa mais nova: {} com {} anos'.format(nome_mais_nova, mais_nova))"
      ],
      "execution_count": 72,
      "outputs": [
        {
          "output_type": "stream",
          "text": [
            "Informe o nome da 1ª pessoa: Maria\n",
            "Informe o ano de nascimento da 1ª pessoa: 2000\n",
            "Informe o nome da 2ª pessoa: Joana\n",
            "Informe o ano de nascimento da 2ª pessoa: 1992\n",
            "Informe o nome da 3ª pessoa: Felícia\n",
            "Informe o ano de nascimento da 3ª pessoa: 1989\n",
            "Informe o nome da 4ª pessoa: Pedro\n",
            "Informe o ano de nascimento da 4ª pessoa: 2004\n",
            "Informe o nome da 5ª pessoa: Jéssica\n",
            "Informe o ano de nascimento da 5ª pessoa: 2001\n",
            "\n",
            "Pessoa mais velha: Felícia com 31 anos\n",
            "Pessoa mais nova: Pedro com 16 anos\n"
          ],
          "name": "stdout"
        }
      ]
    },
    {
      "cell_type": "code",
      "metadata": {
        "id": "A190_FqyHxzT",
        "outputId": "fdd58828-0e17-4a66-cf95-50bf7c71fa1a",
        "colab": {
          "base_uri": "https://localhost:8080/",
          "height": 34
        }
      },
      "source": [
        "#14) Faça um algoritmo para calcular e exibir a soma dos números de 0 a 100\n",
        "\n",
        "soma = 0\n",
        "\n",
        "for i in range(101):\n",
        "  soma += i\n",
        "\n",
        "print(soma)"
      ],
      "execution_count": 74,
      "outputs": [
        {
          "output_type": "stream",
          "text": [
            "5050\n"
          ],
          "name": "stdout"
        }
      ]
    },
    {
      "cell_type": "code",
      "metadata": {
        "id": "cPSI7excJLlt",
        "outputId": "f95d28af-47d2-4162-d36b-69b9273b4000",
        "colab": {
          "base_uri": "https://localhost:8080/",
          "height": 34
        }
      },
      "source": [
        "#15 Faça um algoritmo para exibir os múltiplos de 155 compreendidos entre 5000 e 10000\n",
        "\n",
        "for i in range(5000, 6001, 155):\n",
        "  print(i, end='')\n",
        "  print(', ' if i < 5930 else '', end='')"
      ],
      "execution_count": 79,
      "outputs": [
        {
          "output_type": "stream",
          "text": [
            "5000, 5155, 5310, 5465, 5620, 5775, 5930"
          ],
          "name": "stdout"
        }
      ]
    }
  ]
}