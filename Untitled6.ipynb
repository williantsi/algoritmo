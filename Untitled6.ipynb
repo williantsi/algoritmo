{
  "nbformat": 4,
  "nbformat_minor": 0,
  "metadata": {
    "colab": {
      "name": "Untitled6.ipynb",
      "provenance": [],
      "collapsed_sections": [],
      "authorship_tag": "ABX9TyObyO9NkqZboG9Ohnfo8G9F",
      "include_colab_link": true
    },
    "kernelspec": {
      "name": "python3",
      "display_name": "Python 3"
    }
  },
  "cells": [
    {
      "cell_type": "markdown",
      "metadata": {
        "id": "view-in-github",
        "colab_type": "text"
      },
      "source": [
        "<a href=\"https://colab.research.google.com/github/williantsi/algoritmo/blob/master/Untitled6.ipynb\" target=\"_parent\"><img src=\"https://colab.research.google.com/assets/colab-badge.svg\" alt=\"Open In Colab\"/></a>"
      ]
    },
    {
      "cell_type": "code",
      "metadata": {
        "id": "CEqSJUYFnWDA",
        "outputId": "81c62ac5-3bf5-4857-8e9e-f3fea5c23a48",
        "colab": {
          "base_uri": "https://localhost:8080/",
          "height": 102
        }
      },
      "source": [
        "aluno=input('Qual o nome do aluno?')\n",
        "n1=float(input('Informe a 1° nota:'))\n",
        "n2=float(input('Informe a 2° nota:'))\n",
        "n3=float(input('Informe a 3° nota:'))\n",
        "media=(n1+n2+n3)/3\n",
        "\n",
        "if media >= 7 and media <= 10:\n",
        "\tprint('O aluno {} esta aprovado!  '.format(aluno))\n",
        "\t\n",
        "elif media >= 5.1 and media <= 6.9:\n",
        "\tprint('O aluno {} esta de recuperação!'.format(aluno))\n",
        "\n",
        "elif media >= 0 and media <= 5:\n",
        "\tprint('O aluno {} esta reprovado!'.format(aluno))\n",
        " \n",
        "else:\n",
        "   print('média inválida')\n",
        " "
      ],
      "execution_count": null,
      "outputs": [
        {
          "output_type": "stream",
          "text": [
            "Qual o nome do aluno?ghgh\n",
            "Informe a 1° nota:500\n",
            "Informe a 2° nota:200\n",
            "Informe a 3° nota:35\n",
            "média inválida\n"
          ],
          "name": "stdout"
        }
      ]
    }
  ]
}